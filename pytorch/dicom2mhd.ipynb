{
 "cells": [
  {
   "cell_type": "code",
   "execution_count": 2,
   "metadata": {},
   "outputs": [],
   "source": [
    "import cv2\n",
    "import os\n",
    "import pydicom\n",
    "import numpy\n",
    "import SimpleITK\n",
    "from glob import glob"
   ]
  },
  {
   "cell_type": "code",
   "execution_count": 22,
   "metadata": {},
   "outputs": [
    {
     "name": "stdout",
     "output_type": "stream",
     "text": [
      "h:\\医学图像数据\\ModelsGenesis\\pytorch\n",
      "['h:\\\\医学图像数据\\\\ModelsGenesis\\\\pytorch\\\\./DicomResource/CT3297478-江冬生_1.DCM', 'h:\\\\医学图像数据\\\\ModelsGenesis\\\\pytorch\\\\./DicomResource/CT3297478-江冬生_2.DCM', 'h:\\\\医学图像数据\\\\ModelsGenesis\\\\pytorch\\\\./DicomResource/CT3297478-江冬生_3.DCM', 'h:\\\\医学图像数据\\\\ModelsGenesis\\\\pytorch\\\\./DicomResource/CT3297478-江冬生_4.DCM', 'h:\\\\医学图像数据\\\\ModelsGenesis\\\\pytorch\\\\./DicomResource/CT3297478-江冬生_5.DCM', 'h:\\\\医学图像数据\\\\ModelsGenesis\\\\pytorch\\\\./DicomResource/CT3297478-江冬生_6.DCM', 'h:\\\\医学图像数据\\\\ModelsGenesis\\\\pytorch\\\\./DicomResource/CT3297478-江冬生_7.DCM', 'h:\\\\医学图像数据\\\\ModelsGenesis\\\\pytorch\\\\./DicomResource/CT3297478-江冬生_8.DCM', 'h:\\\\医学图像数据\\\\ModelsGenesis\\\\pytorch\\\\./DicomResource/CT3297478-江冬生_9.DCM', 'h:\\\\医学图像数据\\\\ModelsGenesis\\\\pytorch\\\\./DicomResource/CT3297478-江冬生_10.DCM', 'h:\\\\医学图像数据\\\\ModelsGenesis\\\\pytorch\\\\./DicomResource/CT3297478-江冬生_11.DCM', 'h:\\\\医学图像数据\\\\ModelsGenesis\\\\pytorch\\\\./DicomResource/CT3297478-江冬生_12.DCM', 'h:\\\\医学图像数据\\\\ModelsGenesis\\\\pytorch\\\\./DicomResource/CT3297478-江冬生_13.DCM', 'h:\\\\医学图像数据\\\\ModelsGenesis\\\\pytorch\\\\./DicomResource/CT3297478-江冬生_14.DCM', 'h:\\\\医学图像数据\\\\ModelsGenesis\\\\pytorch\\\\./DicomResource/CT3297478-江冬生_15.DCM', 'h:\\\\医学图像数据\\\\ModelsGenesis\\\\pytorch\\\\./DicomResource/CT3297478-江冬生_16.DCM', 'h:\\\\医学图像数据\\\\ModelsGenesis\\\\pytorch\\\\./DicomResource/CT3297478-江冬生_17.DCM', 'h:\\\\医学图像数据\\\\ModelsGenesis\\\\pytorch\\\\./DicomResource/CT3297478-江冬生_18.DCM', 'h:\\\\医学图像数据\\\\ModelsGenesis\\\\pytorch\\\\./DicomResource/CT3297478-江冬生_19.DCM', 'h:\\\\医学图像数据\\\\ModelsGenesis\\\\pytorch\\\\./DicomResource/CT3297478-江冬生_20.DCM', 'h:\\\\医学图像数据\\\\ModelsGenesis\\\\pytorch\\\\./DicomResource/CT3297478-江冬生_21.DCM', 'h:\\\\医学图像数据\\\\ModelsGenesis\\\\pytorch\\\\./DicomResource/CT3297478-江冬生_22.DCM', 'h:\\\\医学图像数据\\\\ModelsGenesis\\\\pytorch\\\\./DicomResource/CT3297478-江冬生_23.DCM', 'h:\\\\医学图像数据\\\\ModelsGenesis\\\\pytorch\\\\./DicomResource/CT3297478-江冬生_24.DCM', 'h:\\\\医学图像数据\\\\ModelsGenesis\\\\pytorch\\\\./DicomResource/CT3297478-江冬生_25.DCM', 'h:\\\\医学图像数据\\\\ModelsGenesis\\\\pytorch\\\\./DicomResource/CT3297478-江冬生_26.DCM', 'h:\\\\医学图像数据\\\\ModelsGenesis\\\\pytorch\\\\./DicomResource/CT3297478-江冬生_27.DCM', 'h:\\\\医学图像数据\\\\ModelsGenesis\\\\pytorch\\\\./DicomResource/CT3297478-江冬生_28.DCM', 'h:\\\\医学图像数据\\\\ModelsGenesis\\\\pytorch\\\\./DicomResource/CT3297478-江冬生_29.DCM', 'h:\\\\医学图像数据\\\\ModelsGenesis\\\\pytorch\\\\./DicomResource/CT3297478-江冬生_30.DCM', 'h:\\\\医学图像数据\\\\ModelsGenesis\\\\pytorch\\\\./DicomResource/CT3297478-江冬生_31.DCM', 'h:\\\\医学图像数据\\\\ModelsGenesis\\\\pytorch\\\\./DicomResource/CT3297478-江冬生_32.DCM', 'h:\\\\医学图像数据\\\\ModelsGenesis\\\\pytorch\\\\./DicomResource/CT3297478-江冬生_33.DCM', 'h:\\\\医学图像数据\\\\ModelsGenesis\\\\pytorch\\\\./DicomResource/CT3297478-江冬生_34.DCM', 'h:\\\\医学图像数据\\\\ModelsGenesis\\\\pytorch\\\\./DicomResource/CT3297478-江冬生_35.DCM', 'h:\\\\医学图像数据\\\\ModelsGenesis\\\\pytorch\\\\./DicomResource/CT3297478-江冬生_36.DCM', 'h:\\\\医学图像数据\\\\ModelsGenesis\\\\pytorch\\\\./DicomResource/CT3297478-江冬生_37.DCM', 'h:\\\\医学图像数据\\\\ModelsGenesis\\\\pytorch\\\\./DicomResource/CT3297478-江冬生_38.DCM', 'h:\\\\医学图像数据\\\\ModelsGenesis\\\\pytorch\\\\./DicomResource/CT3297478-江冬生_39.DCM', 'h:\\\\医学图像数据\\\\ModelsGenesis\\\\pytorch\\\\./DicomResource/CT3297478-江冬生_40.DCM', 'h:\\\\医学图像数据\\\\ModelsGenesis\\\\pytorch\\\\./DicomResource/CT3297478-江冬生_41.DCM', 'h:\\\\医学图像数据\\\\ModelsGenesis\\\\pytorch\\\\./DicomResource/CT3297478-江冬生_42.DCM', 'h:\\\\医学图像数据\\\\ModelsGenesis\\\\pytorch\\\\./DicomResource/CT3297478-江冬生_43.DCM', 'h:\\\\医学图像数据\\\\ModelsGenesis\\\\pytorch\\\\./DicomResource/CT3297478-江冬生_44.DCM', 'h:\\\\医学图像数据\\\\ModelsGenesis\\\\pytorch\\\\./DicomResource/CT3297478-江冬生_45.DCM', 'h:\\\\医学图像数据\\\\ModelsGenesis\\\\pytorch\\\\./DicomResource/CT3297478-江冬生_46.DCM', 'h:\\\\医学图像数据\\\\ModelsGenesis\\\\pytorch\\\\./DicomResource/CT3297478-江冬生_47.DCM', 'h:\\\\医学图像数据\\\\ModelsGenesis\\\\pytorch\\\\./DicomResource/CT3297478-江冬生_48.DCM', 'h:\\\\医学图像数据\\\\ModelsGenesis\\\\pytorch\\\\./DicomResource/CT3297478-江冬生_49.DCM', 'h:\\\\医学图像数据\\\\ModelsGenesis\\\\pytorch\\\\./DicomResource/CT3297478-江冬生_50.DCM']\n"
     ]
    }
   ],
   "source": [
    "# 路径和列表声明\n",
    "PathDicom = \"./DicomResource/\"  # 与python文件同一个目录下的文件夹,存储dicom文件\n",
    "SaveRawDicom = \"./SaveRaw/\"     # 与python文件同一个目录下的文件夹,用来存储mhd文件和raw文件\n",
    "lstFilesDCM = []\n",
    "''' \n",
    "# 将PathDicom文件夹下的dicom文件地址读取到lstFilesDCM中\n",
    "for dirName, subdirList, fileList in os.walk(PathDicom):\n",
    "\tfor filename in fileList:\n",
    "\t\tif \".dcm\" in filename.lower():  # 判断文件是否为dicom文件\n",
    "\t\t\tprint(filename)\n",
    "\t\t\tlstFilesDCM.append(os.path.join(dirName, filename))  # 加入到列表中\n",
    "'''\n",
    "currentPath = os.getcwd()\n",
    "print(currentPath)\n",
    "\n",
    "# fileList = os.listdir(PathDicom)\n",
    "# fileList.sort(key=lambda x:x.split('_')[1])\n",
    "# lstFilesDCM = fileList\n",
    "# print(fileList)\n",
    "list = []\n",
    "path = os.path.join(currentPath,PathDicom)\n",
    "fileList = os.listdir(PathDicom)\n",
    "for i in range(len(fileList)):\n",
    "\tlist = glob(os.path.join(path,r'CT3297478-江冬生_'+'{}.DCM'.format(i+1)))\n",
    "\t# print(list[0])\n",
    "\tlstFilesDCM.append(list[0])\n",
    "\n",
    "print(lstFilesDCM)\n",
    "# for filename in fileList:\n",
    "#     str = filename.split('_')[1]\n",
    "#     glob(os.path.join(PathDicom,str))"
   ]
  },
  {
   "cell_type": "code",
   "execution_count": null,
   "metadata": {},
   "outputs": [],
   "source": [
    "\n",
    "\n",
    "# 第一步：将第一张图片作为参考图片，并认为所有图片具有相同维度\n",
    "RefDs = pydicom.read_file(lstFilesDCM[0])  # 读取第一张dicom图片\n",
    " \n",
    "# 第二步：得到dicom图片所组成3D图片的维度\n",
    "ConstPixelDims = (int(RefDs.Rows), int(RefDs.Columns), len(lstFilesDCM)) # ConstPixelDims是一个元组\n",
    " \n",
    "# 第三步：得到x方向和y方向的Spacing并得到z方向的层厚\n",
    "ConstPixelSpacing = (float(RefDs.PixelSpacing[0]), float(RefDs.PixelSpacing[1]), float(RefDs.SliceThickness))\n",
    " \n",
    "# 第四步：得到图像的原点\n",
    "Origin = RefDs.ImagePositionPatient\n",
    " \n",
    "# 根据维度创建一个numpy的三维数组，并将元素类型设为：pixel_array.dtype\n",
    "ArrayDicom = numpy.zeros(ConstPixelDims, dtype=RefDs.pixel_array.dtype)  # array is a numpy array"
   ]
  },
  {
   "cell_type": "code",
   "execution_count": null,
   "metadata": {},
   "outputs": [],
   "source": [
    "# 第五步:遍历所有的dicom文件，读取图像数据，存放在numpy数组中\n",
    "i = 0\n",
    "for filenameDCM in lstFilesDCM:\n",
    "\tds = pydicom.read_file(filenameDCM)\n",
    "\tArrayDicom[:, :, lstFilesDCM.index(filenameDCM)] = ds.pixel_array\n",
    "\tcv2.imwrite(\"out_\" + str(i) + \".png\", ArrayDicom[:, :, lstFilesDCM.index(filenameDCM)])\n",
    "\ti += 1\n",
    " \n",
    "# 第六步：对numpy数组进行转置，即把坐标轴（x,y,z）变换为（z,y,x）,这样是dicom存储文件的格式，即第一个维度为z轴便于图片堆叠\n",
    "ArrayDicom = numpy.transpose(ArrayDicom, (2, 0, 1))\n",
    " \n",
    "# 第七步：将现在的numpy数组通过SimpleITK转化为mhd和raw文件\n",
    "sitk_img = SimpleITK.GetImageFromArray(ArrayDicom, isVector=False)\n",
    "sitk_img.SetSpacing(ConstPixelSpacing)\n",
    "sitk_img.SetOrigin(Origin)\n",
    "SimpleITK.WriteImage(sitk_img, os.path.join(SaveRawDicom, \"sample\" + \".mhd\"))"
   ]
  },
  {
   "cell_type": "code",
   "execution_count": null,
   "metadata": {},
   "outputs": [],
   "source": []
  }
 ],
 "metadata": {
  "kernelspec": {
   "display_name": "Python 3.9.15 ('base')",
   "language": "python",
   "name": "python3"
  },
  "language_info": {
   "codemirror_mode": {
    "name": "ipython",
    "version": 3
   },
   "file_extension": ".py",
   "mimetype": "text/x-python",
   "name": "python",
   "nbconvert_exporter": "python",
   "pygments_lexer": "ipython3",
   "version": "3.9.15"
  },
  "orig_nbformat": 4,
  "vscode": {
   "interpreter": {
    "hash": "509f72c0a63c199992063e0c85b0501357e771a80c263858987094cd7f4cc61e"
   }
  }
 },
 "nbformat": 4,
 "nbformat_minor": 2
}
